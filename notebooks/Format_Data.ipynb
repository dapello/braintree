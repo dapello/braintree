{
 "cells": [
  {
   "cell_type": "code",
   "execution_count": 25,
   "metadata": {},
   "outputs": [],
   "source": [
    "import os\n",
    "\n",
    "import torch as ch\n",
    "import numpy as np\n",
    "import pandas as pd\n",
    "import h5py as h5\n",
    "import matplotlib.pyplot as plt\n",
    "%matplotlib inline"
   ]
  },
  {
   "cell_type": "code",
   "execution_count": 4,
   "metadata": {},
   "outputs": [],
   "source": [
    "# generate random indices dividing data into train, test, and val sets\n",
    "class Partition(object):\n",
    "    def __init__(self, ntotal, ntrain, ntest, nval, idx=None):\n",
    "        super(Partition, self).__init__()\n",
    "        # always generate the same random partition, for now\n",
    "        np.random.seed(0)\n",
    "        self.ntotal = ntotal\n",
    "        self.ntrain = ntrain\n",
    "        self.ntest = ntest\n",
    "        self.nval = nval\n",
    "        \n",
    "        # so we can supply the idx if we want to use the same partition scheme\n",
    "        if idx:\n",
    "            self.idx = idx\n",
    "        else:\n",
    "            self.idx = np.random.choice(ntotal,ntotal)\n",
    "            \n",
    "        self.train_idx = self.idx[:ntrain]\n",
    "        \n",
    "        test_and_val_idx = self.idx[ntrain:]\n",
    "        self.test_idx = test_and_val_idx[:ntest]\n",
    "        self.val_idx = test_and_val_idx[ntest:]\n",
    "    \n",
    "    def __call__(self, X):\n",
    "        return X[self.train_idx], X[self.test_idx], X[self.val_idx]\n",
    "    \n",
    "partition = Partition(1100, 900, 100, 100)"
   ]
  },
  {
   "cell_type": "code",
   "execution_count": 5,
   "metadata": {},
   "outputs": [],
   "source": [
    "data = h5.File('kk_temporal_data.h5', 'r')\n",
    "\n",
    "# input images\n",
    "Stimuli = data['images']['raw'][:].transpose(0,3,2,1)\n",
    "\n",
    "# get reps, averaging over time window 70-170 (idx 0) and over trials (last idx)\n",
    "M_R = data['neural']['magneto']['right'][7:17].mean(axis=0).mean(axis=-1)\n",
    "N_R = data['neural']['nano']['right'][7:17].mean(axis=0).mean(axis=-1)\n",
    "N_L = data['neural']['nano']['left'][7:17].mean(axis=0).mean(axis=-1)\n",
    "\n",
    "## make up labels for development\n",
    "Y = np.array([np.ones(100)*i for i in range(11)]).reshape(-1)"
   ]
  },
  {
   "cell_type": "code",
   "execution_count": 6,
   "metadata": {},
   "outputs": [
    {
     "name": "stdout",
     "output_type": "stream",
     "text": [
      "157 142 187\n"
     ]
    }
   ],
   "source": [
    "M_R_neurons = M_R.shape[-1]\n",
    "N_R_neurons = N_R.shape[-1]\n",
    "N_L_neurons = N_L.shape[-1]\n",
    "\n",
    "print(M_R_neurons, N_R_neurons, N_L_neurons)"
   ]
  },
  {
   "cell_type": "code",
   "execution_count": 7,
   "metadata": {},
   "outputs": [
    {
     "name": "stdout",
     "output_type": "stream",
     "text": [
      "107 92 137\n"
     ]
    }
   ],
   "source": [
    "# let's just manually divide each monkey neurons into train and val now, and only keep train\n",
    "def partition_neurons(X, ntrain):\n",
    "    np.random.seed(0)\n",
    "    idx = np.random.choice(X.shape[-1], X.shape[-1])\n",
    "    return X[:,idx[:ntrain]], X[:,idx[ntrain:]]\n",
    "\n",
    "\n",
    "M_R = partition_neurons(M_R, 107)[0]\n",
    "N_R = partition_neurons(N_R, 92)[0]\n",
    "N_L = partition_neurons(N_L, 137)[0]\n",
    "\n",
    "M_R_neurons = M_R.shape[-1]\n",
    "N_R_neurons = N_R.shape[-1]\n",
    "N_L_neurons = N_L.shape[-1]\n",
    "\n",
    "print(M_R_neurons, N_R_neurons, N_L_neurons)"
   ]
  },
  {
   "cell_type": "code",
   "execution_count": 8,
   "metadata": {},
   "outputs": [
    {
     "data": {
      "text/plain": [
       "(1100, 336)"
      ]
     },
     "execution_count": 8,
     "metadata": {},
     "output_type": "execute_result"
    }
   ],
   "source": [
    "# now we can combine into one set\n",
    "Reps = np.concatenate([M_R, N_R, N_L], axis=1)\n",
    "Reps.shape"
   ]
  },
  {
   "cell_type": "code",
   "execution_count": 46,
   "metadata": {},
   "outputs": [],
   "source": [
    "# partition the datasets\n",
    "Stimuli_Partitioned = partition(Stimuli)\n",
    "\n",
    "Reps_Partitioned = partition(Reps)\n",
    "\n",
    "Y_Partitioned = partition(Y)"
   ]
  },
  {
   "cell_type": "code",
   "execution_count": 47,
   "metadata": {},
   "outputs": [],
   "source": [
    "# lets save these as is; the loader will then pick them up from .npzs\n",
    "partitions = ['Train', 'Test', 'Val']\n",
    "\n",
    "name = 'Stimuli'\n",
    "for S, P in zip(Stimuli_Partitioned, partitions):\n",
    "    np.save(os.path.join('data', f'{name}_{P}'), S)\n",
    "    \n",
    "name = 'Reps'\n",
    "for S, P in zip(Reps_Partitioned, partitions):\n",
    "    np.save(os.path.join('data', f'{name}_{P}'), S)\n",
    "\n",
    "name = 'Labels'\n",
    "for S, P in zip(Y_Partitioned, partitions):\n",
    "    np.save(os.path.join('data', f'{name}_{P}'), S)"
   ]
  },
  {
   "cell_type": "code",
   "execution_count": 49,
   "metadata": {},
   "outputs": [],
   "source": [
    "partitions = ['Train', 'Test']\n",
    "\n",
    "name = 'Stimuli'\n",
    "Stimuli_Partitioned = [\n",
    "    np.load(os.path.join('data', f'{name}_{P}.npy'))\n",
    "    for P in partitions\n",
    "]\n",
    "\n",
    "name = 'Reps'\n",
    "Reps_Partitioned = [\n",
    "    np.load(os.path.join('data', f'{name}_{P}.npy'))\n",
    "    for P in partitions\n",
    "]\n",
    "\n",
    "name = 'Labels'\n",
    "Labels_Partitioned = [\n",
    "    np.load(os.path.join('data', f'{name}_{P}.npy'))\n",
    "    for P in partitions\n",
    "]"
   ]
  },
  {
   "cell_type": "code",
   "execution_count": 51,
   "metadata": {},
   "outputs": [],
   "source": [
    "from torch.utils.data import TensorDataset, DataLoader\n",
    "\n",
    "# now they can be formatted at pytorch Dataset\n",
    "Neural_Train, Neural_Test = [\n",
    "    TensorDataset(\n",
    "        ch.Tensor(Stimuli_Partitioned[i]), \n",
    "        ch.Tensor(Reps_Partitioned[i]), \n",
    "        ch.Tensor(Y_Partitioned[i])\n",
    "    )\n",
    "    for i in range(len(partitions))\n",
    "]"
   ]
  },
  {
   "cell_type": "code",
   "execution_count": 52,
   "metadata": {},
   "outputs": [],
   "source": [
    "for (stimuli, rep, label) in DataLoader(Neural_Train, batch_size=64):\n",
    "    pass"
   ]
  },
  {
   "cell_type": "code",
   "execution_count": 53,
   "metadata": {},
   "outputs": [
    {
     "name": "stdout",
     "output_type": "stream",
     "text": [
      "tensor(10.) torch.Size([4, 336])\n"
     ]
    },
    {
     "data": {
      "image/png": "[encoded data removed]",
      "text/plain": [
       "<Figure size 432x288 with 1 Axes>"
      ]
     },
     "metadata": {
      "needs_background": "light"
     },
     "output_type": "display_data"
    }
   ],
   "source": [
    "# and check that the images are still good:\n",
    "plt.imshow(stimuli.detach().numpy()[2]/255)\n",
    "print(label[0], rep.shape)"
   ]
  },
  {
   "cell_type": "code",
   "execution_count": 15,
   "metadata": {},
   "outputs": [],
   "source": [
    "## now we need to merge w/ ImageNet loader."
   ]
  },
  {
   "cell_type": "code",
   "execution_count": 16,
   "metadata": {},
   "outputs": [],
   "source": [
    "## define the ImageNet dataset (mock)\n",
    "import torchvision\n",
    "\n",
    "normalize = torchvision.transforms.Normalize(mean=[0.485, 0.456, 0.406],\n",
    "                                             std=[0.229, 0.224, 0.225])\n",
    "\n",
    "ImageNet_Train = torchvision.datasets.ImageFolder(\n",
    "            'imagenet/',\n",
    "            torchvision.transforms.Compose([\n",
    "                torchvision.transforms.Resize(256),\n",
    "                torchvision.transforms.CenterCrop(224),\n",
    "                torchvision.transforms.ToTensor(),\n",
    "                normalize,\n",
    "            ]))"
   ]
  },
  {
   "cell_type": "code",
   "execution_count": 17,
   "metadata": {},
   "outputs": [],
   "source": [
    "from torchvision import datasets\n",
    "\n",
    "# and concat the two:\n",
    "class ConcatDataset(ch.utils.data.Dataset):\n",
    "    def __init__(self, *datasets):\n",
    "        self.datasets = datasets\n",
    "\n",
    "    def __getitem__(self, i):\n",
    "        return tuple(d[i] for d in self.datasets)\n",
    "\n",
    "    def __len__(self):\n",
    "        return min(len(d) for d in self.datasets)\n",
    "\n",
    "train_loader = ch.utils.data.DataLoader(\n",
    "             ConcatDataset(\n",
    "                 ImageNet_Train,\n",
    "#                  ImageNet_Train\n",
    "                 Neural_Train\n",
    "             ),\n",
    "             batch_size=4, shuffle=True,\n",
    "             num_workers=4, pin_memory=True\n",
    ")"
   ]
  },
  {
   "cell_type": "code",
   "execution_count": 18,
   "metadata": {},
   "outputs": [
    {
     "name": "stdout",
     "output_type": "stream",
     "text": [
      "torch.Size([4, 3, 224, 224]), torch.Size([4]), torch.Size([4, 256, 256, 3]), torch.Size([4, 336]), torch.Size([4])\n",
      "torch.Size([4, 3, 224, 224]), torch.Size([4]), torch.Size([4, 256, 256, 3]), torch.Size([4, 336]), torch.Size([4])\n",
      "torch.Size([4, 3, 224, 224]), torch.Size([4]), torch.Size([4, 256, 256, 3]), torch.Size([4, 336]), torch.Size([4])\n",
      "torch.Size([4, 3, 224, 224]), torch.Size([4]), torch.Size([4, 256, 256, 3]), torch.Size([4, 336]), torch.Size([4])\n",
      "torch.Size([2, 3, 224, 224]), torch.Size([2]), torch.Size([2, 256, 256, 3]), torch.Size([2, 336]), torch.Size([2])\n"
     ]
    }
   ],
   "source": [
    "# the new train_loader:\n",
    "for ((imnet_inp, imnet_label), (stimuli, rep, label)) in train_loader:\n",
    "    print(f'{imnet_inp.shape}, {imnet_label.shape}, {stimuli.shape}, {rep.shape}, {label.shape}')"
   ]
  },
  {
   "cell_type": "code",
   "execution_count": null,
   "metadata": {},
   "outputs": [],
   "source": []
  }
 ],
 "metadata": {
  "kernelspec": {
   "display_name": "brainscore2",
   "language": "python",
   "name": "brainscore2"
  },
  "language_info": {
   "codemirror_mode": {
    "name": "ipython",
    "version": 3
   },
   "file_extension": ".py",
   "mimetype": "text/x-python",
   "name": "python",
   "nbconvert_exporter": "python",
   "pygments_lexer": "ipython3",
   "version": "3.6.8"
  }
 },
 "nbformat": 4,
 "nbformat_minor": 2
}
